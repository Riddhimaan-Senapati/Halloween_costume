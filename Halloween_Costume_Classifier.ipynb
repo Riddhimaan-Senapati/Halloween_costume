{
  "nbformat": 4,
  "nbformat_minor": 0,
  "metadata": {
    "colab": {
      "private_outputs": true,
      "provenance": []
    },
    "kernelspec": {
      "name": "python3",
      "display_name": "Python 3"
    },
    "language_info": {
      "name": "python"
    },
    "accelerator": "GPU",
    "gpuClass": "standard"
  },
  "cells": [
    {
      "cell_type": "markdown",
      "source": [
        "# What is this?\n",
        "An AI that will guess your halloween costume! More specifically, a program that will match images of halloween costumes to [5,000 pre-defined](https://raw.githubusercontent.com/janelleshane/halloween-costume-dataset/master/costumes) possible halloween costumes.\n",
        "# How does this work?\n",
        "The program uses [CLIP](https://huggingface.co/docs/transformers/model_doc/clip) to calculate a similarity score between the uploaded image and every halloween costume idea in this [dataset](https://raw.githubusercontent.com/janelleshane/halloween-costume-dataset/master/costumes). CLIP is doing [zero-shot](https://en.wikipedia.org/wiki/Zero-shot_learning) image classification over a dataset of 5,000 halloween costume ideas. Unfortunately if your costume is not in the dataset this program will be unable to guess your costume correctly, though it might still find an example in the dataset that is a decent match for your costume.\n",
        "# Things to note\n",
        "Uploading a larger image takes longer.\n",
        "\n",
        "Be sure to use a GPU runtime."
      ],
      "metadata": {
        "id": "j-9J0zoHZ91H"
      }
    },
    {
      "cell_type": "code",
      "execution_count": null,
      "metadata": {
        "id": "NtJ6jR8UXZtR"
      },
      "outputs": [],
      "source": [
        "!pip install transformers\n",
        "!pip install gradio"
      ]
    },
    {
      "cell_type": "code",
      "source": [
        "from PIL import Image\n",
        "import torch\n",
        "from transformers import CLIPProcessor, CLIPModel # import the CLIP model from huggingface\n",
        "import gradio as gr\n",
        "import requests"
      ],
      "metadata": {
        "id": "txzmm1PyXf3P"
      },
      "execution_count": null,
      "outputs": []
    },
    {
      "cell_type": "code",
      "source": [
        "# Download the CLIP model from huggingface\n",
        "model = CLIPModel.from_pretrained(\"openai/clip-vit-base-patch32\")\n",
        "processor = CLIPProcessor.from_pretrained(\"openai/clip-vit-base-patch32\")\n",
        "\n",
        "# Put the model on the GPU\n",
        "device = \"cuda\" if torch.cuda.is_available() else \"cpu\"\n",
        "model = model.to(device)"
      ],
      "metadata": {
        "id": "PdimctbRXyc7"
      },
      "execution_count": null,
      "outputs": []
    },
    {
      "cell_type": "code",
      "source": [
        "\n",
        "# Remove any whitespace sorrounding the costume idea and append \"halloween costume\" onto the end of the idea\n",
        "# Appending halloween costume encourages CLIP to interpret the images as costumes instead of as actual photographs of the ideas\n",
        "def preprocess_costume(costume):\n",
        "    return f\"{costume.strip()} halloween costume\"\n",
        "\n",
        "\n",
        "# Calculate a similarity score for every costume in \"costumes\" relative to the provided image\n",
        "def get_logits(costume_image, costumes):\n",
        "    with torch.no_grad():\n",
        "        inputs = processor(text=costumes, images=costume_image, return_tensors=\"pt\", padding=True).to(device)\n",
        "\n",
        "        outputs = model(**inputs)\n",
        "        logits_per_image = outputs.logits_per_image  # this is the image-text similarity score\n",
        "        return logits_per_image\n",
        "\n",
        "\n",
        "# Calculate a similarity score for every costume in \"costumes\"\n",
        "# Normalize the scores to a probability distribution over all the costume ideas\n",
        "# Return the top k most probably costume ideas\n",
        "def get_top_k(costume_image, costumes, k=5):\n",
        "    batch_size = 512 # calculating the similarity scores in batches to not blow up our memory usage\n",
        "\n",
        "    all_logits = []\n",
        "    for i in range(0, len(costumes), batch_size):\n",
        "        logits = get_logits(costume_image, costumes[i:i+batch_size])\n",
        "        all_logits.append(logits)\n",
        "\n",
        "\n",
        "    all_logits = torch.cat(all_logits, dim=1)\n",
        "    probs = all_logits.softmax(dim=1)[0]  # we can take the softmax to get the label probabilities instead of similarity scores\n",
        "    sorted_indices = torch.argsort(probs, dim=0, descending=True) # sort the costumes based on their probabilities\n",
        "    top_k = {costumes[i]: probs[i].item() for i in sorted_indices[:k]} # find the top k most probably costumes\n",
        "\n",
        "    return top_k\n",
        "\n",
        "\n",
        "# Given an image and a source of costume ideas, return the top 5 most probable costumes for the given image\n",
        "def classify(image, costume_list_url=\"https://raw.githubusercontent.com/janelleshane/halloween-costume-dataset/master/costumes\"):\n",
        "\n",
        "    # If you run this locally you may want to specify your own file of costume ideas\n",
        "    # with open(costume_list_file, \"r\") as f:\n",
        "    #     costumes = list(set([preprocess_costume(line) for line in f.readlines()]))\n",
        "\n",
        "    costume_list = requests.get(costume_list_url).text\n",
        "    costumes = list(set([preprocess_costume(line) for line in costume_list.split(\"\\n\")]))\n",
        "    \n",
        "    results = get_top_k(image, costumes)\n",
        "\n",
        "    return results"
      ],
      "metadata": {
        "id": "NaJ6bMzeX26p"
      },
      "execution_count": null,
      "outputs": []
    },
    {
      "cell_type": "code",
      "source": [
        "# Host the costume classifier through a gradio app\n",
        "demo = gr.Interface(\n",
        "    fn=classify,\n",
        "    inputs=\"image\",\n",
        "    outputs=\"label\",\n",
        "    title=\"Costume Classifier\",\n",
        "    description=\"Upload an image and CLIP will guess what costume it is!\",\n",
        "    allow_flagging=False,\n",
        ")\n",
        "\n",
        "demo.launch(\n",
        "    share=True,\n",
        "    enable_queue=True,\n",
        "    debug=True,\n",
        ")"
      ],
      "metadata": {
        "id": "8avjATdNX4e6"
      },
      "execution_count": null,
      "outputs": []
    }
  ]
}